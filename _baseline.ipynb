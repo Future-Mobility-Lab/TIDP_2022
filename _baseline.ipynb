{
 "cells": [
  {
   "cell_type": "code",
   "execution_count": 1,
   "id": "ebaed4c7",
   "metadata": {},
   "outputs": [],
   "source": [
    "from sklearn.model_selection import train_test_split, KFold, LeaveOneOut,GridSearchCV,RandomizedSearchCV\n",
    "import pandas as pd\n",
    "import numpy as np\n",
    "# def mape(y_true, y_pred): \n",
    "#     return np.mean(np.abs((np.expm1(y_true) - np.expm1(y_pred)) / np.expm1(y_true)+0.00001)) * 100\n",
    "\n",
    "\n",
    "def mape(y_true, y_pred,sample_weight=None,multioutput='uniform_average'):\n",
    "    y_type, y_true, y_pred, multioutput = _check_reg_targets(y_true, y_pred, multioutput)\n",
    "    \n",
    "    y_true = np.expm1(y_true)\n",
    "    y_pred = np.expm1(y_pred)\n",
    "    \n",
    "    epsilon = np.finfo(np.float64).eps\n",
    "    mape = np.abs(y_pred - y_true) / np.maximum(np.abs(y_true), epsilon)\n",
    "    output_errors = np.average(mape,weights=sample_weight, axis=0)\n",
    "    if isinstance(multioutput, str):\n",
    "        if multioutput == 'raw_values':\n",
    "            return output_errors\n",
    "        elif multioutput == 'uniform_average':\n",
    "            # pass None as weights to np.average: uniform mean\n",
    "            multioutput = None\n",
    "    return np.average(output_errors, weights=multioutput)\n",
    "\n",
    "def _check_reg_targets(y_true, y_pred, multioutput, dtype=\"numeric\"):\n",
    "    if y_true.ndim == 1:\n",
    "        y_true = y_true.reshape((-1, 1))\n",
    "\n",
    "    if y_pred.ndim == 1:\n",
    "        y_pred = y_pred.reshape((-1, 1))\n",
    "\n",
    "    if y_true.shape[1] != y_pred.shape[1]:\n",
    "        raise ValueError(\"y_true and y_pred have different number of output \"\n",
    "                         \"({0}!={1})\".format(y_true.shape[1], y_pred.shape[1]))\n",
    "\n",
    "    n_outputs = y_true.shape[1]\n",
    "    allowed_multioutput_str = ('raw_values', 'uniform_average',\n",
    "                               'variance_weighted')\n",
    "    if isinstance(multioutput, str):\n",
    "        if multioutput not in allowed_multioutput_str:\n",
    "            raise ValueError(\"Allowed 'multioutput' string values are {}. \"\n",
    "                             \"You provided multioutput={!r}\".format(\n",
    "                                 allowed_multioutput_str,\n",
    "                                 multioutput))\n",
    "    elif multioutput is not None:\n",
    "        multioutput = check_array(multioutput, ensure_2d=False)\n",
    "        if n_outputs == 1:\n",
    "            raise ValueError(\"Custom weights are useful only in \"\n",
    "                             \"multi-output cases.\")\n",
    "        elif n_outputs != len(multioutput):\n",
    "            raise ValueError((\"There must be equally many custom weights \"\n",
    "                              \"(%d) as outputs (%d).\") %\n",
    "                             (len(multioutput), n_outputs))\n",
    "    y_type = 'continuous' if n_outputs == 1 else 'continuous-multioutput'\n",
    "\n",
    "    return y_type, y_true, y_pred, multioutput"
   ]
  },
  {
   "cell_type": "code",
   "execution_count": 2,
   "id": "0f12e4de",
   "metadata": {},
   "outputs": [],
   "source": [
    "from sklearn.model_selection import cross_val_score\n",
    "from xgboost import XGBRegressor as XGB\n",
    "from sklearn.ensemble import GradientBoostingRegressor as GBR\n",
    "from sklearn.ensemble import RandomForestRegressor as RFR"
   ]
  },
  {
   "cell_type": "code",
   "execution_count": 3,
   "id": "b3155da8",
   "metadata": {},
   "outputs": [],
   "source": [
    "from sklearn.metrics import make_scorer"
   ]
  },
  {
   "cell_type": "code",
   "execution_count": 4,
   "id": "e537b758",
   "metadata": {},
   "outputs": [],
   "source": [
    "dt = pd.read_csv('SF_good.csv').drop(['End_Lat','Start_Time','Wind_Chill(F)','Country','Timezone','Weather_Timestamp','End_Time','End_Lng','City','Street','County'],axis=1)"
   ]
  },
  {
   "cell_type": "code",
   "execution_count": 5,
   "id": "40cca029",
   "metadata": {},
   "outputs": [],
   "source": [
    "X = dt.drop(['ID','Description','Duration'],axis=1).iloc[:,:]\n",
    "Y = dt.Duration.values\n",
    "for C in X.columns:\n",
    "    if len(X[C].unique())<29:\n",
    "        from sklearn import preprocessing\n",
    "        le = preprocessing.LabelEncoder()\n",
    "        X[C] = le.fit_transform(X[C])\n",
    "\n",
    "X=X.fillna(-1)"
   ]
  },
  {
   "cell_type": "code",
   "execution_count": 23,
   "id": "7732c6e0",
   "metadata": {},
   "outputs": [
    {
     "data": {
      "image/png": "[encoded data removed]",
      "text/plain": [
       "<Figure size 432x288 with 1 Axes>"
      ]
     },
     "metadata": {
      "needs_background": "light"
     },
     "output_type": "display_data"
    }
   ],
   "source": [
    "import matplotlib.pyplot as plt\n",
    "plt.hist(Y,bins=200)\n",
    "plt.xlim(0,600)\n",
    "plt.xlabel('Accident duration [min]')\n",
    "plt.ylabel('Number of accidents [n]')\n",
    "plt.tight_layout()\n",
    "plt.savefig('dist.pdf')"
   ]
  },
  {
   "cell_type": "code",
   "execution_count": null,
   "id": "ce710d76",
   "metadata": {},
   "outputs": [],
   "source": []
  },
  {
   "cell_type": "code",
   "execution_count": null,
   "id": "b217e442",
   "metadata": {},
   "outputs": [],
   "source": []
  },
  {
   "cell_type": "code",
   "execution_count": null,
   "id": "cd7af879",
   "metadata": {},
   "outputs": [],
   "source": []
  },
  {
   "cell_type": "code",
   "execution_count": null,
   "id": "d07a419b",
   "metadata": {},
   "outputs": [],
   "source": []
  },
  {
   "cell_type": "code",
   "execution_count": 6,
   "id": "2ebba861",
   "metadata": {},
   "outputs": [],
   "source": [
    "MAPE = make_scorer(mape,greater_is_better=False)"
   ]
  },
  {
   "cell_type": "code",
   "execution_count": 7,
   "id": "c9910651",
   "metadata": {},
   "outputs": [],
   "source": [
    "reg = RFR(n_estimators=100)\n",
    "SCORE = cross_val_score(reg,X,np.log1p(Y),scoring=MAPE,cv=10).mean()\n",
    "SCORE = np.round(np.abs(100.0*SCORE),2)"
   ]
  },
  {
   "cell_type": "code",
   "execution_count": 8,
   "id": "8a32522e",
   "metadata": {},
   "outputs": [],
   "source": [
    "from sklearn.svm import SVR\n",
    "from sklearn.neighbors import KNeighborsRegressor as KNN\n",
    "from sklearn.tree import DecisionTreeRegressor as DT\n",
    "from sklearn.linear_model import LinearRegression as LR"
   ]
  },
  {
   "cell_type": "code",
   "execution_count": 9,
   "id": "027f02c9",
   "metadata": {},
   "outputs": [],
   "source": [
    "DICT={}\n",
    "DICT['RF'] = RFR\n",
    "DICT['XGBoost'] = XGB\n",
    "DICT['SVR'] = SVR\n",
    "DICT['KNN'] = KNN\n",
    "DICT['DT'] = DT\n",
    "DICT['GBDT'] = GBR\n",
    "DICT['LR'] = LR\n",
    "# DICT['LightGBM'] = LG"
   ]
  },
  {
   "cell_type": "code",
   "execution_count": 10,
   "id": "d19b8d3a",
   "metadata": {},
   "outputs": [],
   "source": [
    "MAPE='neg_mean_squared_error'"
   ]
  },
  {
   "cell_type": "code",
   "execution_count": 11,
   "id": "7875d9db",
   "metadata": {},
   "outputs": [
    {
     "name": "stdout",
     "output_type": "stream",
     "text": [
      "RF , 57.6\n",
      "XGBoost , 63.41\n",
      "SVR , 159.57\n",
      "KNN , 87.13\n",
      "DT , 94.49\n",
      "GBDT , 58.4\n",
      "LR , 102.36\n"
     ]
    }
   ],
   "source": [
    "A=[]\n",
    "for K in DICT:\n",
    "    reg = DICT[K]()\n",
    "    SCORE = cross_val_score(reg,X,np.log1p(Y),scoring=MAPE,cv=10).mean()\n",
    "    SCORE += cross_val_score(reg,X,np.log1p(Y),scoring=MAPE,cv=10).mean()\n",
    "    SCORE += cross_val_score(reg,X,np.log1p(Y),scoring=MAPE,cv=10).mean()\n",
    "    SCORE=SCORE/3\n",
    "    SCORE = np.round(np.abs(100.0*SCORE),2)\n",
    "    print(K,',',SCORE)\n",
    "    A.append([K,SCORE])"
   ]
  },
  {
   "cell_type": "code",
   "execution_count": 72,
   "id": "8dbeaf81",
   "metadata": {},
   "outputs": [],
   "source": [
    "xt = pd.DataFrame(A,columns=['MLi','MAPE [%]'])"
   ]
  },
  {
   "cell_type": "code",
   "execution_count": 73,
   "id": "27aa445e",
   "metadata": {},
   "outputs": [],
   "source": [
    "xt = xt.sort_values('MAPE [%]')"
   ]
  },
  {
   "cell_type": "code",
   "execution_count": 75,
   "id": "7931480b",
   "metadata": {},
   "outputs": [
    {
     "data": {
      "image/png": "[encoded data removed]",
      "text/plain": [
       "<Figure size 288x288 with 1 Axes>"
      ]
     },
     "metadata": {
      "needs_background": "light"
     },
     "output_type": "display_data"
    }
   ],
   "source": [
    "import matplotlib.pyplot as plt\n",
    "fig, ax = plt.subplots(figsize=(4, 4))\n",
    "xt.plot.bar(x='MLi',y='MAPE [%]',ax=ax)\n",
    "\n",
    "plt.xlabel('MLi',fontsize=14)\n",
    "plt.ylabel('MAPE [%]',fontsize=14)\n",
    "plt.axhline(y = xt['MAPE [%]'].min(), color = 'r', linestyle = '--',label='min MAPE')\n",
    "plt.grid()\n",
    "plt.tight_layout()\n",
    "plt.savefig('baseline.pdf',format='pdf')"
   ]
  },
  {
   "cell_type": "code",
   "execution_count": 76,
   "id": "c051fa7b",
   "metadata": {},
   "outputs": [
    {
     "data": {
      "text/html": [
       "<div>\n",
       "<style scoped>\n",
       "    .dataframe tbody tr th:only-of-type {\n",
       "        vertical-align: middle;\n",
       "    }\n",
       "\n",
       "    .dataframe tbody tr th {\n",
       "        vertical-align: top;\n",
       "    }\n",
       "\n",
       "    .dataframe thead th {\n",
       "        text-align: right;\n",
       "    }\n",
       "</style>\n",
       "<table border=\"1\" class=\"dataframe\">\n",
       "  <thead>\n",
       "    <tr style=\"text-align: right;\">\n",
       "      <th></th>\n",
       "      <th>MLi</th>\n",
       "      <th>MAPE [%]</th>\n",
       "    </tr>\n",
       "  </thead>\n",
       "  <tbody>\n",
       "    <tr>\n",
       "      <th>0</th>\n",
       "      <td>RF</td>\n",
       "      <td>44.58</td>\n",
       "    </tr>\n",
       "    <tr>\n",
       "      <th>5</th>\n",
       "      <td>GBDT</td>\n",
       "      <td>44.99</td>\n",
       "    </tr>\n",
       "    <tr>\n",
       "      <th>1</th>\n",
       "      <td>XGBoost</td>\n",
       "      <td>45.44</td>\n",
       "    </tr>\n",
       "    <tr>\n",
       "      <th>3</th>\n",
       "      <td>KNN</td>\n",
       "      <td>46.00</td>\n",
       "    </tr>\n",
       "    <tr>\n",
       "      <th>4</th>\n",
       "      <td>DT</td>\n",
       "      <td>71.29</td>\n",
       "    </tr>\n",
       "    <tr>\n",
       "      <th>6</th>\n",
       "      <td>LR</td>\n",
       "      <td>106.01</td>\n",
       "    </tr>\n",
       "    <tr>\n",
       "      <th>2</th>\n",
       "      <td>SVR</td>\n",
       "      <td>106.72</td>\n",
       "    </tr>\n",
       "  </tbody>\n",
       "</table>\n",
       "</div>"
      ],
      "text/plain": [
       "       MLi  MAPE [%]\n",
       "0       RF     44.58\n",
       "5     GBDT     44.99\n",
       "1  XGBoost     45.44\n",
       "3      KNN     46.00\n",
       "4       DT     71.29\n",
       "6       LR    106.01\n",
       "2      SVR    106.72"
      ]
     },
     "execution_count": 76,
     "metadata": {},
     "output_type": "execute_result"
    }
   ],
   "source": [
    "xt"
   ]
  },
  {
   "cell_type": "code",
   "execution_count": null,
   "id": "434ab8c3",
   "metadata": {},
   "outputs": [],
   "source": []
  }
 ],
 "metadata": {
  "kernelspec": {
   "display_name": "Python 3 (ipykernel)",
   "language": "python",
   "name": "python3"
  },
  "language_info": {
   "codemirror_mode": {
    "name": "ipython",
    "version": 3
   },
   "file_extension": ".py",
   "mimetype": "text/x-python",
   "name": "python",
   "nbconvert_exporter": "python",
   "pygments_lexer": "ipython3",
   "version": "3.9.6"
  }
 },
 "nbformat": 4,
 "nbformat_minor": 5
}
